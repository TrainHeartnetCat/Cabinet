{
 "cells": [
  {
   "cell_type": "code",
   "execution_count": 1,
   "metadata": {},
   "outputs": [],
   "source": [
    "# employ RDkit and Py3DMol to show the 3D ball and stick structures (including other styles such as carton, sphere, line) of molecule\n",
    "# the program currently accepts input of molecule by SMILES codings and sdf files.\n",
    "\n",
    "# Attention: Please use Jupyter Notebook to carry out Py3DMol \n",
    "# version: RDkit 2016, Python 3.6"
   ]
  },
  {
   "cell_type": "code",
   "execution_count": null,
   "metadata": {},
   "outputs": [],
   "source": [
    "# Reference:\n",
    "# https://future-chem.com/py3dmol/\n",
    "# https://birdlet.github.io/2019/10/02/py3dmol_example/\n",
    "# http://www.modekeji.cn/?p=518"
   ]
  },
  {
   "cell_type": "code",
   "execution_count": 71,
   "metadata": {},
   "outputs": [
    {
     "data": {
      "application/vnd.jupyter.widget-view+json": {
       "model_id": "1d75875ee35b46caa8413e8756d0f5b9",
       "version_major": 2,
       "version_minor": 0
      },
      "text/plain": [
       "interactive(children=(IntSlider(value=0, description='idx', max=4), Dropdown(description='Style:', options=('b…"
      ]
     },
     "metadata": {},
     "output_type": "display_data"
    }
   ],
   "source": [
    "from rdkit import Chem\n",
    "from rdkit.Chem import AllChem\n",
    "from rdkit.Chem import Draw\n",
    "import py3Dmol\n",
    "from ipywidgets import interact,fixed,IntSlider\n",
    "import ipywidgets\n",
    "\n",
    "def MolTo3DView(mol, size=(500, 500), style=\"stick\", surface=False, opacity=0.5):\n",
    "    \"\"\"Draw molecule in 3D\n",
    "    \n",
    "    Args:\n",
    "    ----\n",
    "        mol: rdMol, molecule to show. Attention: the input should be rdMol with 3D coordinates type.\n",
    "        size: tuple(int, int), canvas size\n",
    "        style: str, type of drawing molecule\n",
    "               style can be 'line', 'stick', 'sphere', 'carton', 'cross', 'ball and stick'\n",
    "               'line':'linewidth'\n",
    "               'stick':'radius'\n",
    "               'sphere':'radius','scale'\n",
    "        surface, bool, display SAS\n",
    "        opacity, float, opacity of surface, range 0.0-1.0\n",
    "    Return:\n",
    "    ----\n",
    "        viewer: py3Dmol.view, a class for constructing embedded 3Dmol.js views in ipython notebooks.\n",
    "    \"\"\"\n",
    "    assert style in ('line', 'stick', 'sphere', 'carton', 'cross', 'ball and stick')\n",
    "    mblock = Chem.MolToMolBlock(mol)\n",
    "    viewer = py3Dmol.view(width=size[0], height=size[1])\n",
    "    viewer.addModel(mblock, 'mol')\n",
    "    if style == 'ball and stick':\n",
    "        viewer.setStyle({'sphere':{'radius':0.8, 'scale':0.4},'stick':{'radius':0.2}})\n",
    "    else:\n",
    "        viewer.setStyle({style:{}})\n",
    "    if surface:\n",
    "        viewer.addSurface(py3Dmol.SAS, {'opacity': opacity})\n",
    "    viewer.zoomTo()\n",
    "    return viewer\n",
    "\n",
    "def smi2conf(smiles):\n",
    "    '''Convert SMILES to rdkit.Mol with 3D coordinates'''\n",
    "    mol = Chem.MolFromSmiles(smiles)\n",
    "    if mol is not None:\n",
    "        mol = Chem.AddHs(mol)\n",
    "        AllChem.EmbedMolecule(mol)\n",
    "        AllChem.MMFFOptimizeMolecule(mol, maxIters=200)\n",
    "        return mol\n",
    "    else:\n",
    "        return None\n",
    "\n",
    "def style_selector(idx, style):\n",
    "    mol = mols[idx]\n",
    "    return MolTo3DView(mol, style=style).show()\n",
    "\n",
    "\n",
    "\n",
    "\n",
    "\n",
    "if __name__ == '__main__':\n",
    "    mode = 'smiles' # set mode as 'smiles' or 'sdf'\n",
    "    smiles = [ 'COc3nc(OCc2ccc(C#N)c(c1ccc(C(=O)O)cc1)c2P(=O)(O)O)ccc3C[NH2+]CC(I)NC(=O)C(F)(Cl)Br',\n",
    "                'CC(NCCNCC1=CC=C(OCC2=C(C)C(C3=CC=CC=C3)=CC=C2)N=C1OC)=O',\n",
    "                'Cc1c(COc2cc(OCc3cccc(c3)C#N)c(CN3C[C@H](O)C[C@H]3C(O)=O)cc2Cl)cccc1-c1ccc2OCCOc2c1',\n",
    "                'CCCCC(=O)NCCCCC(=O)NCCCCCC(=O)[O-]',\n",
    "                'CC(NCCNCC1=CC=C(OCC2=C(C)C(C3=CC=CC=C3)=CC=C2)N=C1OC)=O']\n",
    "    sdf_file_path = './test.sdf'\n",
    "    if mode == 'smiles':\n",
    "        mols = [smi2conf(mol) for mol in smiles]\n",
    "    if mode == 'sdf':\n",
    "        mols = [x for x in Chem.SDMolSupplier(sdf_file_path, removeHs=False) if x is not None]\n",
    "#     mol = mols[0]\n",
    "#     viewer = MolTo3DView(mol, size=(600, 300), style='ball and stick', surface=False, opacity=0.5)\n",
    "#     viewer.show()\n",
    "    interact(style_selector, idx=ipywidgets.IntSlider(min=0,max=len(mols)-1, step=1),\n",
    "                                    style=ipywidgets.Dropdown(\n",
    "                                                options=[ 'ball and stick', 'line', 'stick', 'sphere', 'carton', 'cross',],\n",
    "                                                value='ball and stick',\n",
    "                                                description='Style:'))   \n",
    "\n"
   ]
  },
  {
   "cell_type": "code",
   "execution_count": null,
   "metadata": {},
   "outputs": [],
   "source": [
    "'''\n",
    "TODO1: use PyMol to show 2D and 3D graph of molecules.\n",
    "Pymol uses socket which may raise ConnectionRefusedError for some users.\n",
    "In most cases, this problem is caused by firewall strategy or network outage.\n",
    "TODO2: make SMARTS coding available to this program.\n",
    "TODO3: make splitview for multiple molecules available\n",
    "TODO4: make editing function available\n",
    "'''\n",
    "# TODO1\n",
    "# sdf_file_path = './test.sdf'\n",
    "# mols = [x for x in Chem.SDMolSupplier(sdf_file_path, removeHs=False) if x is not None]\n",
    "# from rdkit.Chem import PyMol\n",
    "# mol_view = PyMol.MolViewer()\n",
    "# mol_view.ShowMol(mols[0])\n",
    "# TODO3\n",
    "# view = py3Dmol.view(width=680, height=250, query='cid:5950', viewergrid=(1,3), linked=False)\n",
    "# view.setStyle({'line': {'linewidth': 5}}, viewer=(0,0))\n",
    "# view.setStyle({'stick': {}}, viewer=(0,1))\n",
    "# view.setStyle({'sphere': {}}, viewer=(0,2))\n",
    "# view.setBackgroundColor('#ebf4fb', viewer=(0,0))\n",
    "# view.setBackgroundColor('#f9f4fb', viewer=(0,1))\n",
    "# view.setBackgroundColor('#e1e1e1', viewer=(0,2))\n",
    "# view.show()\n",
    "# view.png()\n",
    "# TODO4\n",
    "# @interact\n",
    "# def smi2viewer(smi='CC=O'):\n",
    "#     try:\n",
    "#         conf = smi2conf(smi)\n",
    "#         return MolTo3DView(conf).show()\n",
    "#     except:\n",
    "#         return None"
   ]
  },
  {
   "cell_type": "code",
   "execution_count": null,
   "metadata": {},
   "outputs": [],
   "source": []
  }
 ],
 "metadata": {
  "kernelspec": {
   "display_name": "Python [conda env:Python36_Rdkit2017]",
   "language": "python",
   "name": "conda-env-Python36_Rdkit2017-py"
  },
  "language_info": {
   "codemirror_mode": {
    "name": "ipython",
    "version": 3
   },
   "file_extension": ".py",
   "mimetype": "text/x-python",
   "name": "python",
   "nbconvert_exporter": "python",
   "pygments_lexer": "ipython3",
   "version": "3.6.12"
  }
 },
 "nbformat": 4,
 "nbformat_minor": 4
}
